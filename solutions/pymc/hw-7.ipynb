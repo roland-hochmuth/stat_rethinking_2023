{
 "cells": [
  {
   "cell_type": "code",
   "execution_count": 2,
   "metadata": {
    "collapsed": true
   },
   "outputs": [],
   "source": [
    "import arviz as az\n",
    "import networkx as nx\n",
    "import numpy as np\n",
    "import pandas as pd\n",
    "from pywhy_graphs.viz import draw\n",
    "import pymc as pm\n",
    "from scipy import stats\n",
    "import warnings"
   ]
  },
  {
   "cell_type": "code",
   "execution_count": 3,
   "outputs": [],
   "source": [
    "%config InlineBackend.figure_format = 'retina'\n",
    "RANDOM_SEED = 8927\n",
    "rng = np.random.default_rng(RANDOM_SEED)\n",
    "az.style.use(\"arviz-darkgrid\")\n",
    "warnings.filterwarnings('ignore')"
   ],
   "metadata": {
    "collapsed": false
   }
  },
  {
   "cell_type": "markdown",
   "source": [
    "1\\. The data in data(bangladesh) are 1934 women from the 1989 BangladeshFertility Survey. For each woman, we know which district she lived in, her number of living.children, her age.centered, whether she lived in an urban center, and finally whether or not she used contraception (use.contraception).\n",
    "In the lecture, we estimated the total effect of urban residence on contraceptive use. Using the DAG from lecture, or your own version if you prefer, now estimate only the direct effect of urban residence on contraceptive use."
   ],
   "metadata": {
    "collapsed": false
   }
  },
  {
   "cell_type": "code",
   "execution_count": 4,
   "outputs": [
    {
     "data": {
      "text/plain": "   woman  district  use.contraception  living.children  age.centered  urban\n0      1         1                  0                4       18.4400      1\n1      2         1                  0                1       -5.5599      1\n2      3         1                  0                3        1.4400      1\n3      4         1                  0                4        8.4400      1\n4      5         1                  0                1      -13.5590      1\n5      6         1                  0                1      -11.5600      1\n6      7         1                  0                4       18.4400      1\n7      8         1                  0                4       -3.5599      1\n8      9         1                  0                2       -5.5599      1\n9     10         1                  0                4        1.4400      1",
      "text/html": "<div>\n<style scoped>\n    .dataframe tbody tr th:only-of-type {\n        vertical-align: middle;\n    }\n\n    .dataframe tbody tr th {\n        vertical-align: top;\n    }\n\n    .dataframe thead th {\n        text-align: right;\n    }\n</style>\n<table border=\"1\" class=\"dataframe\">\n  <thead>\n    <tr style=\"text-align: right;\">\n      <th></th>\n      <th>woman</th>\n      <th>district</th>\n      <th>use.contraception</th>\n      <th>living.children</th>\n      <th>age.centered</th>\n      <th>urban</th>\n    </tr>\n  </thead>\n  <tbody>\n    <tr>\n      <th>0</th>\n      <td>1</td>\n      <td>1</td>\n      <td>0</td>\n      <td>4</td>\n      <td>18.4400</td>\n      <td>1</td>\n    </tr>\n    <tr>\n      <th>1</th>\n      <td>2</td>\n      <td>1</td>\n      <td>0</td>\n      <td>1</td>\n      <td>-5.5599</td>\n      <td>1</td>\n    </tr>\n    <tr>\n      <th>2</th>\n      <td>3</td>\n      <td>1</td>\n      <td>0</td>\n      <td>3</td>\n      <td>1.4400</td>\n      <td>1</td>\n    </tr>\n    <tr>\n      <th>3</th>\n      <td>4</td>\n      <td>1</td>\n      <td>0</td>\n      <td>4</td>\n      <td>8.4400</td>\n      <td>1</td>\n    </tr>\n    <tr>\n      <th>4</th>\n      <td>5</td>\n      <td>1</td>\n      <td>0</td>\n      <td>1</td>\n      <td>-13.5590</td>\n      <td>1</td>\n    </tr>\n    <tr>\n      <th>5</th>\n      <td>6</td>\n      <td>1</td>\n      <td>0</td>\n      <td>1</td>\n      <td>-11.5600</td>\n      <td>1</td>\n    </tr>\n    <tr>\n      <th>6</th>\n      <td>7</td>\n      <td>1</td>\n      <td>0</td>\n      <td>4</td>\n      <td>18.4400</td>\n      <td>1</td>\n    </tr>\n    <tr>\n      <th>7</th>\n      <td>8</td>\n      <td>1</td>\n      <td>0</td>\n      <td>4</td>\n      <td>-3.5599</td>\n      <td>1</td>\n    </tr>\n    <tr>\n      <th>8</th>\n      <td>9</td>\n      <td>1</td>\n      <td>0</td>\n      <td>2</td>\n      <td>-5.5599</td>\n      <td>1</td>\n    </tr>\n    <tr>\n      <th>9</th>\n      <td>10</td>\n      <td>1</td>\n      <td>0</td>\n      <td>4</td>\n      <td>1.4400</td>\n      <td>1</td>\n    </tr>\n  </tbody>\n</table>\n</div>"
     },
     "execution_count": 4,
     "metadata": {},
     "output_type": "execute_result"
    }
   ],
   "source": [
    "d = pd.read_csv(\"../../Data/bangledesh.csv\", sep=\";\", header=0)\n",
    "d.head(10)"
   ],
   "metadata": {
    "collapsed": false
   }
  },
  {
   "cell_type": "code",
   "execution_count": 5,
   "outputs": [
    {
     "data": {
      "text/plain": "woman                  int64\ndistrict               int64\nuse.contraception      int64\nliving.children        int64\nage.centered         float64\nurban                  int64\ndtype: object"
     },
     "execution_count": 5,
     "metadata": {},
     "output_type": "execute_result"
    }
   ],
   "source": [
    "d.dtypes"
   ],
   "metadata": {
    "collapsed": false
   }
  },
  {
   "cell_type": "code",
   "execution_count": 6,
   "outputs": [],
   "source": [
    "d2 = d.copy()\n",
    "d2[\"age.centered\"] = stats.zscore(d[\"age.centered\"])"
   ],
   "metadata": {
    "collapsed": false
   }
  },
  {
   "cell_type": "code",
   "execution_count": 7,
   "outputs": [
    {
     "data": {
      "image/svg+xml": "<?xml version=\"1.0\" encoding=\"UTF-8\" standalone=\"no\"?>\n<!DOCTYPE svg PUBLIC \"-//W3C//DTD SVG 1.1//EN\"\n \"http://www.w3.org/Graphics/SVG/1.1/DTD/svg11.dtd\">\n<!-- Generated by graphviz version 7.0.6 (20230106.0513)\n -->\n<!-- Pages: 1 -->\n<svg width=\"136pt\" height=\"260pt\"\n viewBox=\"0.00 0.00 136.00 260.00\" xmlns=\"http://www.w3.org/2000/svg\" xmlns:xlink=\"http://www.w3.org/1999/xlink\">\n<g id=\"graph0\" class=\"graph\" transform=\"scale(1 1) rotate(0) translate(4 256)\">\n<polygon fill=\"white\" stroke=\"none\" points=\"-4,4 -4,-256 132,-256 132,4 -4,4\"/>\n<!-- A -->\n<g id=\"node1\" class=\"node\">\n<title>A</title>\n<polygon fill=\"none\" stroke=\"black\" points=\"36,-180 0,-180 0,-144 36,-144 36,-180\"/>\n<text text-anchor=\"middle\" x=\"18\" y=\"-158.3\" font-family=\"Times,serif\" font-size=\"14.00\">A</text>\n</g>\n<!-- C -->\n<g id=\"node2\" class=\"node\">\n<title>C</title>\n<polygon fill=\"none\" stroke=\"black\" points=\"90,-36 54,-36 54,0 90,0 90,-36\"/>\n<text text-anchor=\"middle\" x=\"72\" y=\"-14.3\" font-family=\"Times,serif\" font-size=\"14.00\">C</text>\n</g>\n<!-- A&#45;&gt;C -->\n<g id=\"edge1\" class=\"edge\">\n<title>A&#45;&gt;C</title>\n<path fill=\"none\" stroke=\"blue\" d=\"M15.35,-143.83C13.25,-125.31 12.11,-95.36 22,-72 27.05,-60.08 36.04,-49.23 45.03,-40.49\"/>\n<polygon fill=\"blue\" stroke=\"blue\" points=\"47.34,-43.12 52.39,-33.81 42.63,-37.93 47.34,-43.12\"/>\n</g>\n<!-- K -->\n<g id=\"node3\" class=\"node\">\n<title>K</title>\n<polygon fill=\"none\" stroke=\"black\" points=\"67,-108 31,-108 31,-72 67,-72 67,-108\"/>\n<text text-anchor=\"middle\" x=\"49\" y=\"-86.3\" font-family=\"Times,serif\" font-size=\"14.00\">K</text>\n</g>\n<!-- A&#45;&gt;K -->\n<g id=\"edge5\" class=\"edge\">\n<title>A&#45;&gt;K</title>\n<path fill=\"none\" stroke=\"blue\" d=\"M25.66,-143.7C29.04,-136.07 33.09,-126.92 36.87,-118.4\"/>\n<polygon fill=\"blue\" stroke=\"blue\" points=\"39.96,-120.05 40.81,-109.49 33.56,-117.21 39.96,-120.05\"/>\n</g>\n<!-- K&#45;&gt;C -->\n<g id=\"edge2\" class=\"edge\">\n<title>K&#45;&gt;C</title>\n<path fill=\"none\" stroke=\"blue\" d=\"M54.69,-71.7C57.14,-64.24 60.07,-55.32 62.81,-46.97\"/>\n<polygon fill=\"blue\" stroke=\"blue\" points=\"66.11,-48.14 65.91,-37.54 59.46,-45.95 66.11,-48.14\"/>\n</g>\n<!-- D -->\n<g id=\"node4\" class=\"node\">\n<title>D</title>\n<polygon fill=\"none\" stroke=\"black\" points=\"128,-252 92,-252 92,-216 128,-216 128,-252\"/>\n<text text-anchor=\"middle\" x=\"110\" y=\"-230.3\" font-family=\"Times,serif\" font-size=\"14.00\">D</text>\n</g>\n<!-- D&#45;&gt;C -->\n<g id=\"edge3\" class=\"edge\">\n<title>D&#45;&gt;C</title>\n<path fill=\"none\" stroke=\"blue\" d=\"M111.62,-215.83C112.52,-205.47 113.55,-191.99 114,-180 114.6,-164.01 116.16,-159.85 114,-144 109.51,-111.09 104.83,-103.4 94,-72 91.14,-63.71 87.65,-54.86 84.29,-46.81\"/>\n<polygon fill=\"blue\" stroke=\"blue\" points=\"87.62,-45.68 80.47,-37.85 81.18,-48.42 87.62,-45.68\"/>\n</g>\n<!-- U -->\n<g id=\"node5\" class=\"node\">\n<title>U</title>\n<polygon fill=\"none\" stroke=\"black\" points=\"105,-180 69,-180 69,-144 105,-144 105,-180\"/>\n<text text-anchor=\"middle\" x=\"87\" y=\"-158.3\" font-family=\"Times,serif\" font-size=\"14.00\">U</text>\n</g>\n<!-- D&#45;&gt;U -->\n<g id=\"edge7\" class=\"edge\">\n<title>D&#45;&gt;U</title>\n<path fill=\"none\" stroke=\"blue\" d=\"M104.31,-215.7C101.86,-208.24 98.93,-199.32 96.19,-190.97\"/>\n<polygon fill=\"blue\" stroke=\"blue\" points=\"99.54,-189.95 93.09,-181.54 92.89,-192.14 99.54,-189.95\"/>\n</g>\n<!-- U&#45;&gt;C -->\n<g id=\"edge4\" class=\"edge\">\n<title>U&#45;&gt;C</title>\n<path fill=\"none\" stroke=\"blue\" d=\"M85.16,-143.59C82.63,-119.61 78.04,-76.14 75,-47.42\"/>\n<polygon fill=\"blue\" stroke=\"blue\" points=\"78.5,-47.19 73.97,-37.62 71.54,-47.93 78.5,-47.19\"/>\n</g>\n<!-- U&#45;&gt;K -->\n<g id=\"edge6\" class=\"edge\">\n<title>U&#45;&gt;K</title>\n<path fill=\"none\" stroke=\"blue\" d=\"M77.61,-143.7C73.42,-135.98 68.39,-126.71 63.72,-118.11\"/>\n<polygon fill=\"blue\" stroke=\"blue\" points=\"66.85,-116.55 59.01,-109.43 60.7,-119.89 66.85,-116.55\"/>\n</g>\n</g>\n</svg>\n",
      "text/plain": "<graphviz.graphs.Digraph at 0x11efe05d0>"
     },
     "execution_count": 7,
     "metadata": {},
     "output_type": "execute_result"
    }
   ],
   "source": [
    "G = nx.DiGraph([(\"A\", \"C\"), (\"K\", \"C\"), (\"D\", \"C\"), (\"U\", \"C\"), (\"A\", \"K\"), (\"U\", \"K\"), (\"D\", \"U\"), (\"U\", \"K\")])\n",
    "draw(G, node_shapes=\"o\")"
   ],
   "metadata": {
    "collapsed": false
   }
  },
  {
   "cell_type": "markdown",
   "source": [
    "http://dagitty.net/dags.html?id=uL7V8X"
   ],
   "metadata": {
    "collapsed": false
   }
  },
  {
   "cell_type": "markdown",
   "source": [
    "The total effect only of U needs only D, the district tendencies. Now the model for the direct effect must include all of the variables: K, A and D. Why? Because we need to condition on K to block the indirect effect through K. But K is a collider between A and U. So we also need to condition on A to block the collider confounding path that opens when we condition on K. Oh bother."
   ],
   "metadata": {
    "collapsed": false
   }
  },
  {
   "cell_type": "code",
   "execution_count": 26,
   "outputs": [
    {
     "name": "stderr",
     "output_type": "stream",
     "text": [
      "Auto-assigning NUTS sampler...\n",
      "Initializing NUTS using jitter+adapt_diag...\n",
      "Multiprocess sampling (4 chains in 4 jobs)\n",
      "NUTS: [a_bar, b_bar, sigma, tau, b, a]\n"
     ]
    },
    {
     "data": {
      "text/plain": "<IPython.core.display.HTML object>",
      "text/html": "\n<style>\n    /* Turns off some styling */\n    progress {\n        /* gets rid of default border in Firefox and Opera. */\n        border: none;\n        /* Needs to be in here for Safari polyfill so background images work as expected. */\n        background-size: auto;\n    }\n    progress:not([value]), progress:not([value])::-webkit-progress-bar {\n        background: repeating-linear-gradient(45deg, #7e7e7e, #7e7e7e 10px, #5c5c5c 10px, #5c5c5c 20px);\n    }\n    .progress-bar-interrupted, .progress-bar-interrupted::-webkit-progress-bar {\n        background: #F44336;\n    }\n</style>\n"
     },
     "metadata": {},
     "output_type": "display_data"
    },
    {
     "data": {
      "text/plain": "<IPython.core.display.HTML object>",
      "text/html": "\n    <div>\n      <progress value='0' class='' max='12000' style='width:300px; height:20px; vertical-align: middle;'></progress>\n      \n    </div>\n    "
     },
     "metadata": {},
     "output_type": "display_data"
    },
    {
     "name": "stderr",
     "output_type": "stream",
     "text": [
      "Sampling 4 chains for 1_000 tune and 2_000 draw iterations (4_000 + 8_000 draws total) took 9 seconds.\n"
     ]
    }
   ],
   "source": [
    "C = d2[\"use.contraception\"]\n",
    "D = d2.district\n",
    "U = d2.urban\n",
    "A = d2[\"age.centered\"]\n",
    "K = d2[\"living.children\"]\n",
    "num_Ds = max(D) + 1\n",
    "\n",
    "with pm.Model() as m1:\n",
    "    a_bar = pm.Normal(\"a_bar\", 0., 1.)\n",
    "    b_bar = pm.Normal(\"b_bar\", 0., 1.)\n",
    "    sigma = pm.Exponential(\"sigma\", 1)\n",
    "    tau = pm.Exponential(\"tau\", 1)\n",
    "\n",
    "    b = pm.Normal(\"b\", b_bar, tau, shape=num_Ds)\n",
    "    a = pm.Normal(\"a\", a_bar, sigma, shape=num_Ds)\n",
    "\n",
    "    p = pm.invlogit(a[D] + b[D]*U)\n",
    "    C = pm.Bernoulli(\"C\", p=p, observed=C)\n",
    "    t1 = pm.sample(2000, tune=1000)"
   ],
   "metadata": {
    "collapsed": false
   }
  },
  {
   "cell_type": "code",
   "execution_count": null,
   "outputs": [],
   "source": [],
   "metadata": {
    "collapsed": false
   }
  },
  {
   "cell_type": "code",
   "execution_count": 8,
   "outputs": [
    {
     "name": "stderr",
     "output_type": "stream",
     "text": [
      "Auto-assigning NUTS sampler...\n",
      "Initializing NUTS using jitter+adapt_diag...\n",
      "Multiprocess sampling (4 chains in 4 jobs)\n",
      "NUTS: [rho, a_bar, v]\n"
     ]
    },
    {
     "data": {
      "text/plain": "<IPython.core.display.HTML object>",
      "text/html": "\n<style>\n    /* Turns off some styling */\n    progress {\n        /* gets rid of default border in Firefox and Opera. */\n        border: none;\n        /* Needs to be in here for Safari polyfill so background images work as expected. */\n        background-size: auto;\n    }\n    progress:not([value]), progress:not([value])::-webkit-progress-bar {\n        background: repeating-linear-gradient(45deg, #7e7e7e, #7e7e7e 10px, #5c5c5c 10px, #5c5c5c 20px);\n    }\n    .progress-bar-interrupted, .progress-bar-interrupted::-webkit-progress-bar {\n        background: #F44336;\n    }\n</style>\n"
     },
     "metadata": {},
     "output_type": "display_data"
    },
    {
     "data": {
      "text/plain": "<IPython.core.display.HTML object>",
      "text/html": "\n    <div>\n      <progress value='0' class='' max='8000' style='width:300px; height:20px; vertical-align: middle;'></progress>\n      \n    </div>\n    "
     },
     "metadata": {},
     "output_type": "display_data"
    },
    {
     "name": "stderr",
     "output_type": "stream",
     "text": [
      "\n",
      "KeyboardInterrupt\n",
      "\n"
     ]
    }
   ],
   "source": [
    "C = d2[\"use.contraception\"]\n",
    "D = d2.district\n",
    "U = d2.urban\n",
    "A = d2[\"age.centered\"]\n",
    "K = d2[\"living.children\"]\n",
    "num_Ds = max(D) + 1\n",
    "\n",
    "with pm.Model() as m1:\n",
    "    sigma = pm.Exponential.dist(1)\n",
    "    rho, _, _ = pm.LKJCholeskyCov(\"rho\", eta=4, n=2, sd_dist=sigma)\n",
    "    a_bar = pm.Normal(\"a_bar\", 0., 1., shape=2)\n",
    "    v = pm.MvNormal(\"v\", a_bar, chol=rho, shape=(num_Ds, 2))\n",
    "\n",
    "    a = v[:, 0]\n",
    "    b = v[:, 1]\n",
    "\n",
    "    p = pm.Deterministic(\"p\", pm.invlogit(a[D] + b[D]*U))\n",
    "    C = pm.Bernoulli(\"C\", p=p, observed=C)\n",
    "    t1 = pm.sample(1000, tune=1000)"
   ],
   "metadata": {
    "collapsed": false
   }
  },
  {
   "cell_type": "code",
   "execution_count": null,
   "outputs": [],
   "source": [
    "C = d2[\"use.contraception\"]\n",
    "D = d2.district\n",
    "U = d2.urban\n",
    "A = d2[\"age.centered\"]\n",
    "K = d2[\"living.children\"]\n",
    "num_Ds = max(D) + 1\n",
    "\n",
    "with pm.Model() as m1:\n",
    "    sigma = pm.Exponential.dist(1)\n",
    "    rho, _, _ = pm.LKJCholeskyCov(\"rho\", eta=4, n=2, sd_dist=sigma)\n",
    "    a_bar = pm.Normal(\"a_bar\", 0., 1., shape=2)\n",
    "    Z = pm.Normal(\"Z\", 0, 1, shape=(num_Ds, 2))\n",
    "\n",
    "    v = pm.MvNormal(\"v\", a_bar, chol=rho, shape=(num_Ds, 2)) * Z\n",
    "\n",
    "    a = a_bar[0] + v[:, 0]\n",
    "    b = a_bar[1] + v[:, 1]\n",
    "\n",
    "    p = pm.Deterministic(\"p\", pm.invlogit(a[D] + b[D] * U))\n",
    "    C = pm.Bernoulli(\"C\", p=p, observed=C)\n",
    "    t1 = pm.sample(1000, tune=1000)"
   ],
   "metadata": {
    "collapsed": false
   }
  },
  {
   "cell_type": "code",
   "execution_count": null,
   "outputs": [],
   "source": [
    "az.plot_trace(t1)"
   ],
   "metadata": {
    "collapsed": false
   }
  },
  {
   "cell_type": "code",
   "execution_count": null,
   "outputs": [],
   "source": [
    "az.summary(t1, round_to=2, kind=\"stats\")"
   ],
   "metadata": {
    "collapsed": false
   }
  },
  {
   "cell_type": "markdown",
   "source": [
    "2\\. Using the same DAG as before, now estimate the effect of number of surviving children on contraceptive use. Obviously contraceptive use can also influence the number of surviving children. But leave that issue aside for the moment (it will return in the optional challenge further down).\n"
   ],
   "metadata": {
    "collapsed": false
   }
  },
  {
   "cell_type": "markdown",
   "source": [
    "3\\. Now let the causal effect of children vary by district. Incorporate this new district feature into the same multivariate prior that contains the urban/rural features. How much do districts vary in how surviving children are associated with contraceptive use?"
   ],
   "metadata": {
    "collapsed": false
   }
  },
  {
   "cell_type": "code",
   "execution_count": null,
   "outputs": [],
   "source": [],
   "metadata": {
    "collapsed": false
   }
  }
 ],
 "metadata": {
  "kernelspec": {
   "display_name": "Python 3",
   "language": "python",
   "name": "python3"
  },
  "language_info": {
   "codemirror_mode": {
    "name": "ipython",
    "version": 2
   },
   "file_extension": ".py",
   "mimetype": "text/x-python",
   "name": "python",
   "nbconvert_exporter": "python",
   "pygments_lexer": "ipython2",
   "version": "2.7.6"
  }
 },
 "nbformat": 4,
 "nbformat_minor": 0
}
