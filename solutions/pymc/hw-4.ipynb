{
 "cells": [
  {
   "cell_type": "code",
   "execution_count": 2,
   "metadata": {},
   "outputs": [],
   "source": [
    "import arviz as az\n",
    "import matplotlib.pyplot as plt\n",
    "import networkx as nx\n",
    "import numpy as np\n",
    "import pandas as pd\n",
    "from pywhy_graphs.viz import draw\n",
    "import pymc as pm\n",
    "from scipy import stats\n",
    "import warnings"
   ]
  },
  {
   "cell_type": "code",
   "execution_count": 3,
   "metadata": {},
   "outputs": [],
   "source": [
    "%config InlineBackend.figure_format = 'retina'\n",
    "RANDOM_SEED = 8927\n",
    "rng = np.random.default_rng(RANDOM_SEED)\n",
    "az.style.use(\"arviz-darkgrid\")\n",
    "az.rcParams[\"stats.hdi_prob\"] = 0.89  # sets default credible interval used by arviz\n",
    "warnings.filterwarnings('ignore')"
   ]
  },
  {
   "cell_type": "markdown",
   "metadata": {},
   "source": [
    "1\\. Revisit the marriage, age,and happiness collider bias example from Chapter 6. Run models m6.9 and m6.10 again (pages 178–179). Compare these two models using both PSIS and WAIC. Which model is expected to make better predictions, according to these criteria, and which model yields the correct causal inference?"
   ]
  },
  {
   "cell_type": "code",
   "execution_count": 3,
   "metadata": {},
   "outputs": [],
   "source": [
    "def inv_logit(x):\n",
    "    return np.exp(x) / (1 + np.exp(x))\n",
    "\n",
    "\n",
    "def sim_happiness(N_years=100, seed=1234):\n",
    "    np.random.seed(seed)\n",
    "\n",
    "    popn = pd.DataFrame(np.zeros((20 * 65, 3)), columns=[\"age\", \"happiness\", \"married\"])\n",
    "    popn.loc[:, \"age\"] = np.repeat(np.arange(65), 20)\n",
    "    popn.loc[:, \"happiness\"] = np.repeat(np.linspace(-2, 2, 20), 65)\n",
    "    popn.loc[:, \"married\"] = np.array(popn.loc[:, \"married\"].values, dtype=\"bool\")\n",
    "\n",
    "    for i in range(N_years):\n",
    "        # age population\n",
    "        popn.loc[:, \"age\"] += 1\n",
    "        # replace old folk with new folk\n",
    "        ind = popn.age == 65\n",
    "        popn.loc[ind, \"age\"] = 0\n",
    "        popn.loc[ind, \"married\"] = False\n",
    "        popn.loc[ind, \"happiness\"] = np.linspace(-2, 2, 20)\n",
    "\n",
    "        # do the work\n",
    "        elligible = (popn.married == 0) & (popn.age >= 18)\n",
    "        marry = np.random.binomial(1, inv_logit(popn.loc[elligible, \"happiness\"] - 4)) == 1\n",
    "        popn.loc[elligible, \"married\"] = marry\n",
    "\n",
    "    popn.sort_values(\"age\", inplace=True, ignore_index=True)\n",
    "\n",
    "    return popn"
   ]
  },
  {
   "cell_type": "code",
   "execution_count": 4,
   "outputs": [
    {
     "data": {
      "text/plain": "age            int64\nhappiness    float64\nmarried         bool\ndtype: object"
     },
     "execution_count": 4,
     "metadata": {},
     "output_type": "execute_result"
    }
   ],
   "source": [
    "d = sim_happiness(N_years=1000, seed=1977)\n",
    "d.dtypes"
   ],
   "metadata": {
    "collapsed": false
   }
  },
  {
   "cell_type": "code",
   "execution_count": 5,
   "outputs": [
    {
     "data": {
      "text/plain": "age            int64\nhappiness    float64\nmarried        int64\ndtype: object"
     },
     "execution_count": 5,
     "metadata": {},
     "output_type": "execute_result"
    }
   ],
   "source": [
    "d.married = d.married.astype(int)\n",
    "d.dtypes"
   ],
   "metadata": {
    "collapsed": false
   }
  },
  {
   "cell_type": "code",
   "execution_count": 6,
   "metadata": {},
   "outputs": [
    {
     "data": {
      "text/plain": "             mean      sd  hdi_5.5%  hdi_94.5%\nage        32.000  18.769       0.0     57.000\nhappiness  -0.000   1.214      -2.0      1.579\nmarried     0.276   0.447       0.0      1.000",
      "text/html": "<div>\n<style scoped>\n    .dataframe tbody tr th:only-of-type {\n        vertical-align: middle;\n    }\n\n    .dataframe tbody tr th {\n        vertical-align: top;\n    }\n\n    .dataframe thead th {\n        text-align: right;\n    }\n</style>\n<table border=\"1\" class=\"dataframe\">\n  <thead>\n    <tr style=\"text-align: right;\">\n      <th></th>\n      <th>mean</th>\n      <th>sd</th>\n      <th>hdi_5.5%</th>\n      <th>hdi_94.5%</th>\n    </tr>\n  </thead>\n  <tbody>\n    <tr>\n      <th>age</th>\n      <td>32.000</td>\n      <td>18.769</td>\n      <td>0.0</td>\n      <td>57.000</td>\n    </tr>\n    <tr>\n      <th>happiness</th>\n      <td>-0.000</td>\n      <td>1.214</td>\n      <td>-2.0</td>\n      <td>1.579</td>\n    </tr>\n    <tr>\n      <th>married</th>\n      <td>0.276</td>\n      <td>0.447</td>\n      <td>0.0</td>\n      <td>1.000</td>\n    </tr>\n  </tbody>\n</table>\n</div>"
     },
     "execution_count": 6,
     "metadata": {},
     "output_type": "execute_result"
    }
   ],
   "source": [
    "az.summary(d.to_dict(orient=\"list\"), kind=\"stats\")"
   ]
  },
  {
   "cell_type": "code",
   "execution_count": 7,
   "outputs": [],
   "source": [
    "d2 = d[d.age > 17]\n",
    "d2.age = (d.age - 18) / (65 - 18)"
   ],
   "metadata": {
    "collapsed": false
   }
  },
  {
   "cell_type": "code",
   "execution_count": 8,
   "outputs": [
    {
     "data": {
      "text/plain": "           age  happiness  married\n360   0.000000   0.526316        0\n361   0.000000   0.736842        0\n362   0.000000   0.947368        0\n363   0.000000   1.789474        0\n364   0.000000   1.368421        0\n...        ...        ...      ...\n1295  0.978723  -1.578947        0\n1296  0.978723  -1.789474        1\n1297  0.978723  -2.000000        0\n1298  0.978723  -0.105263        1\n1299  0.978723   2.000000        1\n\n[940 rows x 3 columns]",
      "text/html": "<div>\n<style scoped>\n    .dataframe tbody tr th:only-of-type {\n        vertical-align: middle;\n    }\n\n    .dataframe tbody tr th {\n        vertical-align: top;\n    }\n\n    .dataframe thead th {\n        text-align: right;\n    }\n</style>\n<table border=\"1\" class=\"dataframe\">\n  <thead>\n    <tr style=\"text-align: right;\">\n      <th></th>\n      <th>age</th>\n      <th>happiness</th>\n      <th>married</th>\n    </tr>\n  </thead>\n  <tbody>\n    <tr>\n      <th>360</th>\n      <td>0.000000</td>\n      <td>0.526316</td>\n      <td>0</td>\n    </tr>\n    <tr>\n      <th>361</th>\n      <td>0.000000</td>\n      <td>0.736842</td>\n      <td>0</td>\n    </tr>\n    <tr>\n      <th>362</th>\n      <td>0.000000</td>\n      <td>0.947368</td>\n      <td>0</td>\n    </tr>\n    <tr>\n      <th>363</th>\n      <td>0.000000</td>\n      <td>1.789474</td>\n      <td>0</td>\n    </tr>\n    <tr>\n      <th>364</th>\n      <td>0.000000</td>\n      <td>1.368421</td>\n      <td>0</td>\n    </tr>\n    <tr>\n      <th>...</th>\n      <td>...</td>\n      <td>...</td>\n      <td>...</td>\n    </tr>\n    <tr>\n      <th>1295</th>\n      <td>0.978723</td>\n      <td>-1.578947</td>\n      <td>0</td>\n    </tr>\n    <tr>\n      <th>1296</th>\n      <td>0.978723</td>\n      <td>-1.789474</td>\n      <td>1</td>\n    </tr>\n    <tr>\n      <th>1297</th>\n      <td>0.978723</td>\n      <td>-2.000000</td>\n      <td>0</td>\n    </tr>\n    <tr>\n      <th>1298</th>\n      <td>0.978723</td>\n      <td>-0.105263</td>\n      <td>1</td>\n    </tr>\n    <tr>\n      <th>1299</th>\n      <td>0.978723</td>\n      <td>2.000000</td>\n      <td>1</td>\n    </tr>\n  </tbody>\n</table>\n<p>940 rows × 3 columns</p>\n</div>"
     },
     "execution_count": 8,
     "metadata": {},
     "output_type": "execute_result"
    }
   ],
   "source": [
    "d2"
   ],
   "metadata": {
    "collapsed": false
   }
  },
  {
   "cell_type": "code",
   "execution_count": 9,
   "outputs": [],
   "source": [
    "A = d2.age\n",
    "H = d2.happiness\n",
    "M = d2.married\n",
    "\n",
    "with pm.Model() as m6_9:\n",
    "    bA = pm.Normal(\"bA\", 0., 2.)\n",
    "    a = pm.Normal(\"a\", mu=0., sigma=1., shape=2)\n",
    "    sigma = pm.Exponential(\"sigma\", 1.0)\n",
    "    mu =  a[M] + bA*A\n",
    "    H = pm.Normal(\"A\", mu=mu, sigma=sigma, observed=H)"
   ],
   "metadata": {
    "collapsed": false
   }
  },
  {
   "cell_type": "code",
   "execution_count": 10,
   "outputs": [
    {
     "name": "stderr",
     "output_type": "stream",
     "text": [
      "Auto-assigning NUTS sampler...\n",
      "Initializing NUTS using jitter+adapt_diag...\n",
      "Multiprocess sampling (4 chains in 4 jobs)\n",
      "NUTS: [bA, a, sigma]\n"
     ]
    },
    {
     "data": {
      "text/plain": "<IPython.core.display.HTML object>",
      "text/html": "\n<style>\n    /* Turns off some styling */\n    progress {\n        /* gets rid of default border in Firefox and Opera. */\n        border: none;\n        /* Needs to be in here for Safari polyfill so background images work as expected. */\n        background-size: auto;\n    }\n    progress:not([value]), progress:not([value])::-webkit-progress-bar {\n        background: repeating-linear-gradient(45deg, #7e7e7e, #7e7e7e 10px, #5c5c5c 10px, #5c5c5c 20px);\n    }\n    .progress-bar-interrupted, .progress-bar-interrupted::-webkit-progress-bar {\n        background: #F44336;\n    }\n</style>\n"
     },
     "metadata": {},
     "output_type": "display_data"
    },
    {
     "data": {
      "text/plain": "<IPython.core.display.HTML object>",
      "text/html": "\n    <div>\n      <progress value='0' class='' max='8000' style='width:300px; height:20px; vertical-align: middle;'></progress>\n      \n    </div>\n    "
     },
     "metadata": {},
     "output_type": "display_data"
    },
    {
     "name": "stderr",
     "output_type": "stream",
     "text": [
      "Sampling 4 chains for 1_000 tune and 1_000 draw iterations (4_000 + 4_000 draws total) took 1 seconds.\n"
     ]
    }
   ],
   "source": [
    "with m6_9:\n",
    "    t6_9 = pm.sample(1000, tune=1000)"
   ],
   "metadata": {
    "collapsed": false
   }
  },
  {
   "cell_type": "code",
   "execution_count": null,
   "outputs": [
    {
     "data": {
      "text/plain": "array([[<AxesSubplot: title={'center': 'bA'}>,\n        <AxesSubplot: title={'center': 'bA'}>],\n       [<AxesSubplot: title={'center': 'a'}>,\n        <AxesSubplot: title={'center': 'a'}>],\n       [<AxesSubplot: title={'center': 'sigma'}>,\n        <AxesSubplot: title={'center': 'sigma'}>]], dtype=object)"
     },
     "execution_count": 11,
     "metadata": {},
     "output_type": "execute_result"
    }
   ],
   "source": [
    "az.plot_trace(t6_9)"
   ],
   "metadata": {
    "collapsed": false
   }
  },
  {
   "cell_type": "code",
   "execution_count": null,
   "outputs": [],
   "source": [
    "az.summary(t6_9, round_to=2, kind=\"stats\")"
   ],
   "metadata": {
    "collapsed": false
   }
  },
  {
   "cell_type": "code",
   "execution_count": null,
   "outputs": [],
   "source": [
    "A = d2.age\n",
    "H = d2.happiness\n",
    "\n",
    "with pm.Model() as m6_10:\n",
    "    bA = pm.Normal(\"bA\", 0., 2.)\n",
    "    a = pm.Normal(\"a\", mu=0., sigma=1.)\n",
    "    sigma = pm.Exponential(\"sigma\", 1.0)\n",
    "    mu =  a + bA*A\n",
    "    H = pm.Normal(\"A\", mu=mu, sigma=sigma, observed=H)"
   ],
   "metadata": {
    "collapsed": false
   }
  },
  {
   "cell_type": "code",
   "execution_count": 14,
   "outputs": [
    {
     "name": "stderr",
     "output_type": "stream",
     "text": [
      "Auto-assigning NUTS sampler...\n",
      "Initializing NUTS using jitter+adapt_diag...\n",
      "Multiprocess sampling (4 chains in 4 jobs)\n",
      "NUTS: [bA, a, sigma]\n"
     ]
    },
    {
     "data": {
      "text/plain": "<IPython.core.display.HTML object>",
      "text/html": "\n<style>\n    /* Turns off some styling */\n    progress {\n        /* gets rid of default border in Firefox and Opera. */\n        border: none;\n        /* Needs to be in here for Safari polyfill so background images work as expected. */\n        background-size: auto;\n    }\n    progress:not([value]), progress:not([value])::-webkit-progress-bar {\n        background: repeating-linear-gradient(45deg, #7e7e7e, #7e7e7e 10px, #5c5c5c 10px, #5c5c5c 20px);\n    }\n    .progress-bar-interrupted, .progress-bar-interrupted::-webkit-progress-bar {\n        background: #F44336;\n    }\n</style>\n"
     },
     "metadata": {},
     "output_type": "display_data"
    },
    {
     "data": {
      "text/plain": "<IPython.core.display.HTML object>",
      "text/html": "\n    <div>\n      <progress value='0' class='' max='8000' style='width:300px; height:20px; vertical-align: middle;'></progress>\n      \n    </div>\n    "
     },
     "metadata": {},
     "output_type": "display_data"
    },
    {
     "name": "stderr",
     "output_type": "stream",
     "text": [
      "Sampling 4 chains for 1_000 tune and 1_000 draw iterations (4_000 + 4_000 draws total) took 1 seconds.\n"
     ]
    }
   ],
   "source": [
    "with m6_10:\n",
    "    t6_10 = pm.sample(1000, tune=1000)"
   ],
   "metadata": {
    "collapsed": false
   }
  },
  {
   "cell_type": "code",
   "execution_count": 15,
   "outputs": [
    {
     "data": {
      "text/plain": "array([[<AxesSubplot: title={'center': 'bA'}>,\n        <AxesSubplot: title={'center': 'bA'}>],\n       [<AxesSubplot: title={'center': 'a'}>,\n        <AxesSubplot: title={'center': 'a'}>],\n       [<AxesSubplot: title={'center': 'sigma'}>,\n        <AxesSubplot: title={'center': 'sigma'}>]], dtype=object)"
     },
     "execution_count": 15,
     "metadata": {},
     "output_type": "execute_result"
    }
   ],
   "source": [
    "az.plot_trace(t6_10)"
   ],
   "metadata": {
    "collapsed": false
   }
  },
  {
   "cell_type": "code",
   "execution_count": 16,
   "outputs": [
    {
     "data": {
      "text/plain": "       mean    sd  hdi_5.5%  hdi_94.5%\nbA     0.00  0.14     -0.22       0.22\na     -0.00  0.08     -0.13       0.12\nsigma  1.22  0.03      1.17       1.26",
      "text/html": "<div>\n<style scoped>\n    .dataframe tbody tr th:only-of-type {\n        vertical-align: middle;\n    }\n\n    .dataframe tbody tr th {\n        vertical-align: top;\n    }\n\n    .dataframe thead th {\n        text-align: right;\n    }\n</style>\n<table border=\"1\" class=\"dataframe\">\n  <thead>\n    <tr style=\"text-align: right;\">\n      <th></th>\n      <th>mean</th>\n      <th>sd</th>\n      <th>hdi_5.5%</th>\n      <th>hdi_94.5%</th>\n    </tr>\n  </thead>\n  <tbody>\n    <tr>\n      <th>bA</th>\n      <td>0.00</td>\n      <td>0.14</td>\n      <td>-0.22</td>\n      <td>0.22</td>\n    </tr>\n    <tr>\n      <th>a</th>\n      <td>-0.00</td>\n      <td>0.08</td>\n      <td>-0.13</td>\n      <td>0.12</td>\n    </tr>\n    <tr>\n      <th>sigma</th>\n      <td>1.22</td>\n      <td>0.03</td>\n      <td>1.17</td>\n      <td>1.26</td>\n    </tr>\n  </tbody>\n</table>\n</div>"
     },
     "execution_count": 16,
     "metadata": {},
     "output_type": "execute_result"
    }
   ],
   "source": [
    "az.summary(t6_10, round_to=2, kind=\"stats\")"
   ],
   "metadata": {
    "collapsed": false
   }
  },
  {
   "cell_type": "code",
   "execution_count": 17,
   "outputs": [
    {
     "data": {
      "text/plain": "<IPython.core.display.HTML object>",
      "text/html": "\n<style>\n    /* Turns off some styling */\n    progress {\n        /* gets rid of default border in Firefox and Opera. */\n        border: none;\n        /* Needs to be in here for Safari polyfill so background images work as expected. */\n        background-size: auto;\n    }\n    progress:not([value]), progress:not([value])::-webkit-progress-bar {\n        background: repeating-linear-gradient(45deg, #7e7e7e, #7e7e7e 10px, #5c5c5c 10px, #5c5c5c 20px);\n    }\n    .progress-bar-interrupted, .progress-bar-interrupted::-webkit-progress-bar {\n        background: #F44336;\n    }\n</style>\n"
     },
     "metadata": {},
     "output_type": "display_data"
    },
    {
     "data": {
      "text/plain": "<IPython.core.display.HTML object>",
      "text/html": "\n    <div>\n      <progress value='0' class='' max='4000' style='width:300px; height:20px; vertical-align: middle;'></progress>\n      \n    </div>\n    "
     },
     "metadata": {},
     "output_type": "display_data"
    }
   ],
   "source": [
    "with m6_9:\n",
    "    pm.compute_log_likelihood(t6_9)"
   ],
   "metadata": {
    "collapsed": false
   }
  },
  {
   "cell_type": "code",
   "execution_count": 18,
   "outputs": [
    {
     "data": {
      "text/plain": "<IPython.core.display.HTML object>",
      "text/html": "\n<style>\n    /* Turns off some styling */\n    progress {\n        /* gets rid of default border in Firefox and Opera. */\n        border: none;\n        /* Needs to be in here for Safari polyfill so background images work as expected. */\n        background-size: auto;\n    }\n    progress:not([value]), progress:not([value])::-webkit-progress-bar {\n        background: repeating-linear-gradient(45deg, #7e7e7e, #7e7e7e 10px, #5c5c5c 10px, #5c5c5c 20px);\n    }\n    .progress-bar-interrupted, .progress-bar-interrupted::-webkit-progress-bar {\n        background: #F44336;\n    }\n</style>\n"
     },
     "metadata": {},
     "output_type": "display_data"
    },
    {
     "data": {
      "text/plain": "<IPython.core.display.HTML object>",
      "text/html": "\n    <div>\n      <progress value='0' class='' max='4000' style='width:300px; height:20px; vertical-align: middle;'></progress>\n      \n    </div>\n    "
     },
     "metadata": {},
     "output_type": "display_data"
    }
   ],
   "source": [
    "with m6_10:\n",
    "    pm.compute_log_likelihood(t6_10)"
   ],
   "metadata": {
    "collapsed": false
   }
  },
  {
   "cell_type": "code",
   "execution_count": 19,
   "outputs": [],
   "source": [
    "loo_t6_9 = az.loo(t6_9)\n",
    "waic_t6_9 = az.waic(t6_9)\n",
    "loo_t6_10 = az.loo(t6_10)\n",
    "waic_t6_10 = az.waic(t6_10)"
   ],
   "metadata": {
    "collapsed": false
   }
  },
  {
   "cell_type": "code",
   "execution_count": 20,
   "outputs": [
    {
     "data": {
      "text/plain": "       rank     elpd_loo     p_loo   elpd_diff    weight         se  \\\nm_69      0 -1330.807800  3.676130    0.000000  0.986796  18.688913   \nm6_10     1 -1518.742593  2.386292  187.934794  0.013204  13.683200   \n\n             dse  warning scale  \nm_69    0.000000    False   log  \nm6_10  17.401011    False   log  ",
      "text/html": "<div>\n<style scoped>\n    .dataframe tbody tr th:only-of-type {\n        vertical-align: middle;\n    }\n\n    .dataframe tbody tr th {\n        vertical-align: top;\n    }\n\n    .dataframe thead th {\n        text-align: right;\n    }\n</style>\n<table border=\"1\" class=\"dataframe\">\n  <thead>\n    <tr style=\"text-align: right;\">\n      <th></th>\n      <th>rank</th>\n      <th>elpd_loo</th>\n      <th>p_loo</th>\n      <th>elpd_diff</th>\n      <th>weight</th>\n      <th>se</th>\n      <th>dse</th>\n      <th>warning</th>\n      <th>scale</th>\n    </tr>\n  </thead>\n  <tbody>\n    <tr>\n      <th>m_69</th>\n      <td>0</td>\n      <td>-1330.807800</td>\n      <td>3.676130</td>\n      <td>0.000000</td>\n      <td>0.986796</td>\n      <td>18.688913</td>\n      <td>0.000000</td>\n      <td>False</td>\n      <td>log</td>\n    </tr>\n    <tr>\n      <th>m6_10</th>\n      <td>1</td>\n      <td>-1518.742593</td>\n      <td>2.386292</td>\n      <td>187.934794</td>\n      <td>0.013204</td>\n      <td>13.683200</td>\n      <td>17.401011</td>\n      <td>False</td>\n      <td>log</td>\n    </tr>\n  </tbody>\n</table>\n</div>"
     },
     "execution_count": 20,
     "metadata": {},
     "output_type": "execute_result"
    }
   ],
   "source": [
    "compare_loo = az.compare({\"m_69\": loo_t6_9, \"m6_10\": loo_t6_10}, ic=\"loo\")\n",
    "compare_loo"
   ],
   "metadata": {
    "collapsed": false
   }
  },
  {
   "cell_type": "code",
   "execution_count": 22,
   "outputs": [
    {
     "data": {
      "text/plain": "<AxesSubplot: title={'center': 'Model comparison\\nhigher is better'}, xlabel='elpd_loo (log)', ylabel='ranked models'>"
     },
     "execution_count": 22,
     "metadata": {},
     "output_type": "execute_result"
    },
    {
     "data": {
      "text/plain": "<Figure size 600x200 with 1 Axes>",
      "image/png": "[encoded data removed]"
     },
     "metadata": {
      "image/png": {
       "width": 611,
       "height": 211
      }
     },
     "output_type": "display_data"
    }
   ],
   "source": [
    "az.plot_compare(compare_loo)"
   ],
   "metadata": {
    "collapsed": false
   }
  },
  {
   "cell_type": "code",
   "execution_count": 21,
   "outputs": [
    {
     "data": {
      "text/plain": "       rank    elpd_waic    p_waic   elpd_diff    weight         se       dse  \\\nm_69      0 -1330.802148  3.670478    0.000000  0.986806  18.688657   0.00000   \nm6_10     1 -1518.739393  2.383092  187.937245  0.013194  13.683113  17.40081   \n\n       warning scale  \nm_69     False   log  \nm6_10    False   log  ",
      "text/html": "<div>\n<style scoped>\n    .dataframe tbody tr th:only-of-type {\n        vertical-align: middle;\n    }\n\n    .dataframe tbody tr th {\n        vertical-align: top;\n    }\n\n    .dataframe thead th {\n        text-align: right;\n    }\n</style>\n<table border=\"1\" class=\"dataframe\">\n  <thead>\n    <tr style=\"text-align: right;\">\n      <th></th>\n      <th>rank</th>\n      <th>elpd_waic</th>\n      <th>p_waic</th>\n      <th>elpd_diff</th>\n      <th>weight</th>\n      <th>se</th>\n      <th>dse</th>\n      <th>warning</th>\n      <th>scale</th>\n    </tr>\n  </thead>\n  <tbody>\n    <tr>\n      <th>m_69</th>\n      <td>0</td>\n      <td>-1330.802148</td>\n      <td>3.670478</td>\n      <td>0.000000</td>\n      <td>0.986806</td>\n      <td>18.688657</td>\n      <td>0.00000</td>\n      <td>False</td>\n      <td>log</td>\n    </tr>\n    <tr>\n      <th>m6_10</th>\n      <td>1</td>\n      <td>-1518.739393</td>\n      <td>2.383092</td>\n      <td>187.937245</td>\n      <td>0.013194</td>\n      <td>13.683113</td>\n      <td>17.40081</td>\n      <td>False</td>\n      <td>log</td>\n    </tr>\n  </tbody>\n</table>\n</div>"
     },
     "execution_count": 21,
     "metadata": {},
     "output_type": "execute_result"
    }
   ],
   "source": [
    "compare_waic = az.compare({\"m_69\": waic_t6_9, \"m6_10\": waic_t6_10}, ic=\"waic\")\n",
    "compare_waic"
   ],
   "metadata": {
    "collapsed": false
   }
  },
  {
   "cell_type": "code",
   "execution_count": 23,
   "outputs": [
    {
     "data": {
      "text/plain": "<AxesSubplot: title={'center': 'Model comparison\\nhigher is better'}, xlabel='elpd_waic (log)', ylabel='ranked models'>"
     },
     "execution_count": 23,
     "metadata": {},
     "output_type": "execute_result"
    },
    {
     "data": {
      "text/plain": "<Figure size 600x200 with 1 Axes>",
      "image/png": "[encoded data removed]"
     },
     "metadata": {
      "image/png": {
       "width": 611,
       "height": 211
      }
     },
     "output_type": "display_data"
    }
   ],
   "source": [
    "az.plot_compare(compare_waic)"
   ],
   "metadata": {
    "collapsed": false
   }
  },
  {
   "cell_type": "markdown",
   "source": [
    "2\\. Reconsider the urban fox analysis from last week’s homework. On the basis of PSIS and WAIC scores, which combination of variables best predicts body weight (W, weight)? What causal interpretation can you assign each coefficient (parameter) from the best scoring model?"
   ],
   "metadata": {
    "collapsed": false
   }
  },
  {
   "cell_type": "code",
   "execution_count": 5,
   "outputs": [
    {
     "data": {
      "text/plain": "   group  avgfood  groupsize  area  weight\n0      1     0.37          2  1.09    5.02\n1      1     0.37          2  1.09    2.84\n2      2     0.53          2  2.05    5.33\n3      2     0.53          2  2.05    6.07\n4      3     0.49          2  2.12    5.85\n5      3     0.49          2  2.12    3.25\n6      4     0.45          2  1.29    4.53\n7      4     0.45          2  1.29    4.09\n8      5     0.74          3  3.78    6.13\n9      5     0.74          3  3.78    5.59",
      "text/html": "<div>\n<style scoped>\n    .dataframe tbody tr th:only-of-type {\n        vertical-align: middle;\n    }\n\n    .dataframe tbody tr th {\n        vertical-align: top;\n    }\n\n    .dataframe thead th {\n        text-align: right;\n    }\n</style>\n<table border=\"1\" class=\"dataframe\">\n  <thead>\n    <tr style=\"text-align: right;\">\n      <th></th>\n      <th>group</th>\n      <th>avgfood</th>\n      <th>groupsize</th>\n      <th>area</th>\n      <th>weight</th>\n    </tr>\n  </thead>\n  <tbody>\n    <tr>\n      <th>0</th>\n      <td>1</td>\n      <td>0.37</td>\n      <td>2</td>\n      <td>1.09</td>\n      <td>5.02</td>\n    </tr>\n    <tr>\n      <th>1</th>\n      <td>1</td>\n      <td>0.37</td>\n      <td>2</td>\n      <td>1.09</td>\n      <td>2.84</td>\n    </tr>\n    <tr>\n      <th>2</th>\n      <td>2</td>\n      <td>0.53</td>\n      <td>2</td>\n      <td>2.05</td>\n      <td>5.33</td>\n    </tr>\n    <tr>\n      <th>3</th>\n      <td>2</td>\n      <td>0.53</td>\n      <td>2</td>\n      <td>2.05</td>\n      <td>6.07</td>\n    </tr>\n    <tr>\n      <th>4</th>\n      <td>3</td>\n      <td>0.49</td>\n      <td>2</td>\n      <td>2.12</td>\n      <td>5.85</td>\n    </tr>\n    <tr>\n      <th>5</th>\n      <td>3</td>\n      <td>0.49</td>\n      <td>2</td>\n      <td>2.12</td>\n      <td>3.25</td>\n    </tr>\n    <tr>\n      <th>6</th>\n      <td>4</td>\n      <td>0.45</td>\n      <td>2</td>\n      <td>1.29</td>\n      <td>4.53</td>\n    </tr>\n    <tr>\n      <th>7</th>\n      <td>4</td>\n      <td>0.45</td>\n      <td>2</td>\n      <td>1.29</td>\n      <td>4.09</td>\n    </tr>\n    <tr>\n      <th>8</th>\n      <td>5</td>\n      <td>0.74</td>\n      <td>3</td>\n      <td>3.78</td>\n      <td>6.13</td>\n    </tr>\n    <tr>\n      <th>9</th>\n      <td>5</td>\n      <td>0.74</td>\n      <td>3</td>\n      <td>3.78</td>\n      <td>5.59</td>\n    </tr>\n  </tbody>\n</table>\n</div>"
     },
     "execution_count": 5,
     "metadata": {},
     "output_type": "execute_result"
    }
   ],
   "source": [
    "d = pd.read_csv(\"../../Data/foxes.csv\", sep=\",\", header=0)\n",
    "d.head(10)"
   ],
   "metadata": {
    "collapsed": false
   }
  },
  {
   "cell_type": "code",
   "execution_count": 6,
   "outputs": [
    {
     "data": {
      "text/plain": "             mean     sd  hdi_5.5%  hdi_94.5%\ngroup      17.207  8.003      5.00      29.00\navgfood     0.752  0.198      0.41       1.03\ngroupsize   4.345  1.539      2.00       7.00\narea        3.169  0.928      1.73       4.54\nweight      4.530  1.184      2.78       6.31",
      "text/html": "<div>\n<style scoped>\n    .dataframe tbody tr th:only-of-type {\n        vertical-align: middle;\n    }\n\n    .dataframe tbody tr th {\n        vertical-align: top;\n    }\n\n    .dataframe thead th {\n        text-align: right;\n    }\n</style>\n<table border=\"1\" class=\"dataframe\">\n  <thead>\n    <tr style=\"text-align: right;\">\n      <th></th>\n      <th>mean</th>\n      <th>sd</th>\n      <th>hdi_5.5%</th>\n      <th>hdi_94.5%</th>\n    </tr>\n  </thead>\n  <tbody>\n    <tr>\n      <th>group</th>\n      <td>17.207</td>\n      <td>8.003</td>\n      <td>5.00</td>\n      <td>29.00</td>\n    </tr>\n    <tr>\n      <th>avgfood</th>\n      <td>0.752</td>\n      <td>0.198</td>\n      <td>0.41</td>\n      <td>1.03</td>\n    </tr>\n    <tr>\n      <th>groupsize</th>\n      <td>4.345</td>\n      <td>1.539</td>\n      <td>2.00</td>\n      <td>7.00</td>\n    </tr>\n    <tr>\n      <th>area</th>\n      <td>3.169</td>\n      <td>0.928</td>\n      <td>1.73</td>\n      <td>4.54</td>\n    </tr>\n    <tr>\n      <th>weight</th>\n      <td>4.530</td>\n      <td>1.184</td>\n      <td>2.78</td>\n      <td>6.31</td>\n    </tr>\n  </tbody>\n</table>\n</div>"
     },
     "execution_count": 6,
     "metadata": {},
     "output_type": "execute_result"
    }
   ],
   "source": [
    "az.summary(d.to_dict(orient=\"list\"), kind=\"stats\")"
   ],
   "metadata": {
    "collapsed": false
   }
  },
  {
   "cell_type": "code",
   "execution_count": 7,
   "outputs": [
    {
     "data": {
      "text/plain": "   group   avgfood  groupsize      area    weight\n0      1 -1.933180  -1.530701 -2.249313  0.415931\n1      1 -1.933180  -1.530701 -2.249313 -1.433238\n2      2 -1.122886  -1.530701 -1.210738  0.678887\n3      2 -1.122886  -1.530701 -1.210738  1.306586\n4      3 -1.325459  -1.530701 -1.135008  1.119973\n5      3 -1.325459  -1.530701 -1.135008 -1.085458\n6      4 -1.528033  -1.530701 -2.032943  0.000292\n7      4 -1.528033  -1.530701 -2.032943 -0.372934\n8      5 -0.059375  -0.877902  0.660860  1.357481\n9      5 -0.059375  -0.877902  0.660860  0.899430",
      "text/html": "<div>\n<style scoped>\n    .dataframe tbody tr th:only-of-type {\n        vertical-align: middle;\n    }\n\n    .dataframe tbody tr th {\n        vertical-align: top;\n    }\n\n    .dataframe thead th {\n        text-align: right;\n    }\n</style>\n<table border=\"1\" class=\"dataframe\">\n  <thead>\n    <tr style=\"text-align: right;\">\n      <th></th>\n      <th>group</th>\n      <th>avgfood</th>\n      <th>groupsize</th>\n      <th>area</th>\n      <th>weight</th>\n    </tr>\n  </thead>\n  <tbody>\n    <tr>\n      <th>0</th>\n      <td>1</td>\n      <td>-1.933180</td>\n      <td>-1.530701</td>\n      <td>-2.249313</td>\n      <td>0.415931</td>\n    </tr>\n    <tr>\n      <th>1</th>\n      <td>1</td>\n      <td>-1.933180</td>\n      <td>-1.530701</td>\n      <td>-2.249313</td>\n      <td>-1.433238</td>\n    </tr>\n    <tr>\n      <th>2</th>\n      <td>2</td>\n      <td>-1.122886</td>\n      <td>-1.530701</td>\n      <td>-1.210738</td>\n      <td>0.678887</td>\n    </tr>\n    <tr>\n      <th>3</th>\n      <td>2</td>\n      <td>-1.122886</td>\n      <td>-1.530701</td>\n      <td>-1.210738</td>\n      <td>1.306586</td>\n    </tr>\n    <tr>\n      <th>4</th>\n      <td>3</td>\n      <td>-1.325459</td>\n      <td>-1.530701</td>\n      <td>-1.135008</td>\n      <td>1.119973</td>\n    </tr>\n    <tr>\n      <th>5</th>\n      <td>3</td>\n      <td>-1.325459</td>\n      <td>-1.530701</td>\n      <td>-1.135008</td>\n      <td>-1.085458</td>\n    </tr>\n    <tr>\n      <th>6</th>\n      <td>4</td>\n      <td>-1.528033</td>\n      <td>-1.530701</td>\n      <td>-2.032943</td>\n      <td>0.000292</td>\n    </tr>\n    <tr>\n      <th>7</th>\n      <td>4</td>\n      <td>-1.528033</td>\n      <td>-1.530701</td>\n      <td>-2.032943</td>\n      <td>-0.372934</td>\n    </tr>\n    <tr>\n      <th>8</th>\n      <td>5</td>\n      <td>-0.059375</td>\n      <td>-0.877902</td>\n      <td>0.660860</td>\n      <td>1.357481</td>\n    </tr>\n    <tr>\n      <th>9</th>\n      <td>5</td>\n      <td>-0.059375</td>\n      <td>-0.877902</td>\n      <td>0.660860</td>\n      <td>0.899430</td>\n    </tr>\n  </tbody>\n</table>\n</div>"
     },
     "execution_count": 7,
     "metadata": {},
     "output_type": "execute_result"
    }
   ],
   "source": [
    "d_standardized = d\n",
    "d_standardized.avgfood = stats.zscore(d_standardized.avgfood)\n",
    "d_standardized.groupsize = stats.zscore(d_standardized.groupsize)\n",
    "d_standardized.area = stats.zscore(d_standardized.area)\n",
    "d_standardized.weight = stats.zscore(d_standardized.weight)\n",
    "d_standardized.head(10)"
   ],
   "metadata": {
    "collapsed": false
   }
  },
  {
   "cell_type": "code",
   "execution_count": 8,
   "outputs": [
    {
     "data": {
      "text/plain": "             mean     sd  hdi_5.5%  hdi_94.5%\ngroup      17.207  8.003     5.000     29.000\navgfood     0.000  1.004    -1.731      1.409\ngroupsize  -0.000  1.004    -1.531      1.733\narea       -0.000  1.004    -1.557      1.483\nweight      0.000  1.004    -1.484      1.510",
      "text/html": "<div>\n<style scoped>\n    .dataframe tbody tr th:only-of-type {\n        vertical-align: middle;\n    }\n\n    .dataframe tbody tr th {\n        vertical-align: top;\n    }\n\n    .dataframe thead th {\n        text-align: right;\n    }\n</style>\n<table border=\"1\" class=\"dataframe\">\n  <thead>\n    <tr style=\"text-align: right;\">\n      <th></th>\n      <th>mean</th>\n      <th>sd</th>\n      <th>hdi_5.5%</th>\n      <th>hdi_94.5%</th>\n    </tr>\n  </thead>\n  <tbody>\n    <tr>\n      <th>group</th>\n      <td>17.207</td>\n      <td>8.003</td>\n      <td>5.000</td>\n      <td>29.000</td>\n    </tr>\n    <tr>\n      <th>avgfood</th>\n      <td>0.000</td>\n      <td>1.004</td>\n      <td>-1.731</td>\n      <td>1.409</td>\n    </tr>\n    <tr>\n      <th>groupsize</th>\n      <td>-0.000</td>\n      <td>1.004</td>\n      <td>-1.531</td>\n      <td>1.733</td>\n    </tr>\n    <tr>\n      <th>area</th>\n      <td>-0.000</td>\n      <td>1.004</td>\n      <td>-1.557</td>\n      <td>1.483</td>\n    </tr>\n    <tr>\n      <th>weight</th>\n      <td>0.000</td>\n      <td>1.004</td>\n      <td>-1.484</td>\n      <td>1.510</td>\n    </tr>\n  </tbody>\n</table>\n</div>"
     },
     "execution_count": 8,
     "metadata": {},
     "output_type": "execute_result"
    }
   ],
   "source": [
    "az.summary(d_standardized.to_dict(orient=\"list\"), kind=\"stats\")"
   ],
   "metadata": {
    "collapsed": false
   }
  },
  {
   "cell_type": "code",
   "execution_count": 9,
   "outputs": [
    {
     "data": {
      "image/svg+xml": "<?xml version=\"1.0\" encoding=\"UTF-8\" standalone=\"no\"?>\n<!DOCTYPE svg PUBLIC \"-//W3C//DTD SVG 1.1//EN\"\n \"http://www.w3.org/Graphics/SVG/1.1/DTD/svg11.dtd\">\n<!-- Generated by graphviz version 7.0.6 (20230106.0513)\n -->\n<!-- Pages: 1 -->\n<svg width=\"67pt\" height=\"260pt\"\n viewBox=\"0.00 0.00 67.00 260.00\" xmlns=\"http://www.w3.org/2000/svg\" xmlns:xlink=\"http://www.w3.org/1999/xlink\">\n<g id=\"graph0\" class=\"graph\" transform=\"scale(1 1) rotate(0) translate(4 256)\">\n<polygon fill=\"white\" stroke=\"none\" points=\"-4,4 -4,-256 63,-256 63,4 -4,4\"/>\n<!-- A -->\n<g id=\"node1\" class=\"node\">\n<title>A</title>\n<polygon fill=\"none\" stroke=\"black\" points=\"36,-252 0,-252 0,-216 36,-216 36,-252\"/>\n<text text-anchor=\"middle\" x=\"18\" y=\"-230.3\" font-family=\"Times,serif\" font-size=\"14.00\">A</text>\n</g>\n<!-- F -->\n<g id=\"node2\" class=\"node\">\n<title>F</title>\n<polygon fill=\"none\" stroke=\"black\" points=\"36,-180 0,-180 0,-144 36,-144 36,-180\"/>\n<text text-anchor=\"middle\" x=\"18\" y=\"-158.3\" font-family=\"Times,serif\" font-size=\"14.00\">F</text>\n</g>\n<!-- A&#45;&gt;F -->\n<g id=\"edge1\" class=\"edge\">\n<title>A&#45;&gt;F</title>\n<path fill=\"none\" stroke=\"blue\" d=\"M18,-215.7C18,-208.41 18,-199.73 18,-191.54\"/>\n<polygon fill=\"blue\" stroke=\"blue\" points=\"21.5,-191.62 18,-181.62 14.5,-191.62 21.5,-191.62\"/>\n</g>\n<!-- W -->\n<g id=\"node3\" class=\"node\">\n<title>W</title>\n<polygon fill=\"none\" stroke=\"black\" points=\"36,-36 0,-36 0,0 36,0 36,-36\"/>\n<text text-anchor=\"middle\" x=\"18\" y=\"-14.3\" font-family=\"Times,serif\" font-size=\"14.00\">W</text>\n</g>\n<!-- F&#45;&gt;W -->\n<g id=\"edge2\" class=\"edge\">\n<title>F&#45;&gt;W</title>\n<path fill=\"none\" stroke=\"blue\" d=\"M16.38,-143.83C15.48,-133.47 14.45,-119.99 14,-108 13.4,-92.01 13.4,-87.99 14,-72 14.3,-64.04 14.85,-55.42 15.45,-47.49\"/>\n<polygon fill=\"blue\" stroke=\"blue\" points=\"18.93,-47.93 16.25,-37.68 11.95,-47.36 18.93,-47.93\"/>\n</g>\n<!-- G -->\n<g id=\"node4\" class=\"node\">\n<title>G</title>\n<polygon fill=\"none\" stroke=\"black\" points=\"59,-108 23,-108 23,-72 59,-72 59,-108\"/>\n<text text-anchor=\"middle\" x=\"41\" y=\"-86.3\" font-family=\"Times,serif\" font-size=\"14.00\">G</text>\n</g>\n<!-- F&#45;&gt;G -->\n<g id=\"edge4\" class=\"edge\">\n<title>F&#45;&gt;G</title>\n<path fill=\"none\" stroke=\"blue\" d=\"M23.69,-143.7C26.14,-136.24 29.07,-127.32 31.81,-118.97\"/>\n<polygon fill=\"blue\" stroke=\"blue\" points=\"35.11,-120.14 34.91,-109.54 28.46,-117.95 35.11,-120.14\"/>\n</g>\n<!-- G&#45;&gt;W -->\n<g id=\"edge3\" class=\"edge\">\n<title>G&#45;&gt;W</title>\n<path fill=\"none\" stroke=\"blue\" d=\"M35.31,-71.7C32.86,-64.24 29.93,-55.32 27.19,-46.97\"/>\n<polygon fill=\"blue\" stroke=\"blue\" points=\"30.54,-45.95 24.09,-37.54 23.89,-48.14 30.54,-45.95\"/>\n</g>\n</g>\n</svg>\n",
      "text/plain": "<graphviz.graphs.Digraph at 0x174eeb0d0>"
     },
     "execution_count": 9,
     "metadata": {},
     "output_type": "execute_result"
    }
   ],
   "source": [
    "G = nx.DiGraph([(\"A\", \"F\"), (\"F\", \"W\"), (\"F\", \"G\"), (\"G\", \"W\")])\n",
    "draw(G, node_shapes=\"o\")"
   ],
   "metadata": {
    "collapsed": false
   }
  },
  {
   "cell_type": "code",
   "execution_count": 10,
   "outputs": [
    {
     "name": "stderr",
     "output_type": "stream",
     "text": [
      "Auto-assigning NUTS sampler...\n",
      "Initializing NUTS using jitter+adapt_diag...\n",
      "Multiprocess sampling (4 chains in 4 jobs)\n",
      "NUTS: [bA, a, sigma]\n"
     ]
    },
    {
     "data": {
      "text/plain": "<IPython.core.display.HTML object>",
      "text/html": "\n<style>\n    /* Turns off some styling */\n    progress {\n        /* gets rid of default border in Firefox and Opera. */\n        border: none;\n        /* Needs to be in here for Safari polyfill so background images work as expected. */\n        background-size: auto;\n    }\n    progress:not([value]), progress:not([value])::-webkit-progress-bar {\n        background: repeating-linear-gradient(45deg, #7e7e7e, #7e7e7e 10px, #5c5c5c 10px, #5c5c5c 20px);\n    }\n    .progress-bar-interrupted, .progress-bar-interrupted::-webkit-progress-bar {\n        background: #F44336;\n    }\n</style>\n"
     },
     "metadata": {},
     "output_type": "display_data"
    },
    {
     "data": {
      "text/plain": "<IPython.core.display.HTML object>",
      "text/html": "\n    <div>\n      <progress value='0' class='' max='8000' style='width:300px; height:20px; vertical-align: middle;'></progress>\n      \n    </div>\n    "
     },
     "metadata": {},
     "output_type": "display_data"
    },
    {
     "name": "stderr",
     "output_type": "stream",
     "text": [
      "Sampling 4 chains for 1_000 tune and 1_000 draw iterations (4_000 + 4_000 draws total) took 1 seconds.\n"
     ]
    },
    {
     "data": {
      "text/plain": "<IPython.core.display.HTML object>",
      "text/html": "\n<style>\n    /* Turns off some styling */\n    progress {\n        /* gets rid of default border in Firefox and Opera. */\n        border: none;\n        /* Needs to be in here for Safari polyfill so background images work as expected. */\n        background-size: auto;\n    }\n    progress:not([value]), progress:not([value])::-webkit-progress-bar {\n        background: repeating-linear-gradient(45deg, #7e7e7e, #7e7e7e 10px, #5c5c5c 10px, #5c5c5c 20px);\n    }\n    .progress-bar-interrupted, .progress-bar-interrupted::-webkit-progress-bar {\n        background: #F44336;\n    }\n</style>\n"
     },
     "metadata": {},
     "output_type": "display_data"
    },
    {
     "data": {
      "text/plain": "<IPython.core.display.HTML object>",
      "text/html": "\n    <div>\n      <progress value='0' class='' max='4000' style='width:300px; height:20px; vertical-align: middle;'></progress>\n      \n    </div>\n    "
     },
     "metadata": {},
     "output_type": "display_data"
    }
   ],
   "source": [
    "W = d_standardized.weight.values\n",
    "A = d_standardized.area.values\n",
    "\n",
    "with pm.Model() as m:\n",
    "    bA = pm.Normal(\"bA\", 0., 0.5)\n",
    "    a = pm.Normal(\"a\", mu=0., sigma=0.2)\n",
    "    sigma = pm.Exponential(\"sigma\", 1.0)\n",
    "    mu =  a + bA*A\n",
    "    W = pm.Normal(\"W\", mu=mu, sigma=sigma, observed=W)\n",
    "    t = pm.sample(1000, tune=1000)\n",
    "    pm.compute_log_likelihood(t)"
   ],
   "metadata": {
    "collapsed": false
   }
  },
  {
   "cell_type": "code",
   "execution_count": 11,
   "outputs": [],
   "source": [
    "loo_t = az.loo(t)"
   ],
   "metadata": {
    "collapsed": false
   }
  },
  {
   "cell_type": "code",
   "execution_count": 12,
   "outputs": [
    {
     "data": {
      "text/plain": "       rank    elpd_loo     p_loo  elpd_diff  weight        se  dse  warning  \\\nm_69      0 -167.289756  2.517882        0.0     0.5  6.630929  0.0    False   \nm6_10     1 -167.289756  2.517882        0.0     0.5  6.630929  0.0    False   \n\n      scale  \nm_69    log  \nm6_10   log  ",
      "text/html": "<div>\n<style scoped>\n    .dataframe tbody tr th:only-of-type {\n        vertical-align: middle;\n    }\n\n    .dataframe tbody tr th {\n        vertical-align: top;\n    }\n\n    .dataframe thead th {\n        text-align: right;\n    }\n</style>\n<table border=\"1\" class=\"dataframe\">\n  <thead>\n    <tr style=\"text-align: right;\">\n      <th></th>\n      <th>rank</th>\n      <th>elpd_loo</th>\n      <th>p_loo</th>\n      <th>elpd_diff</th>\n      <th>weight</th>\n      <th>se</th>\n      <th>dse</th>\n      <th>warning</th>\n      <th>scale</th>\n    </tr>\n  </thead>\n  <tbody>\n    <tr>\n      <th>m_69</th>\n      <td>0</td>\n      <td>-167.289756</td>\n      <td>2.517882</td>\n      <td>0.0</td>\n      <td>0.5</td>\n      <td>6.630929</td>\n      <td>0.0</td>\n      <td>False</td>\n      <td>log</td>\n    </tr>\n    <tr>\n      <th>m6_10</th>\n      <td>1</td>\n      <td>-167.289756</td>\n      <td>2.517882</td>\n      <td>0.0</td>\n      <td>0.5</td>\n      <td>6.630929</td>\n      <td>0.0</td>\n      <td>False</td>\n      <td>log</td>\n    </tr>\n  </tbody>\n</table>\n</div>"
     },
     "execution_count": 12,
     "metadata": {},
     "output_type": "execute_result"
    }
   ],
   "source": [
    "compare_loo = az.compare({\"m_69\": loo_t, \"m6_10\": loo_t}, ic=\"loo\")\n",
    "compare_loo"
   ],
   "metadata": {
    "collapsed": false
   }
  },
  {
   "cell_type": "code",
   "execution_count": null,
   "outputs": [],
   "source": [],
   "metadata": {
    "collapsed": false
   }
  },
  {
   "cell_type": "markdown",
   "source": [
    "3\\. Build a predictive model of the relationship shown on the cover of the book, the relationship between the timing of cherry blossoms and March temper- ature in the same year. The data are found in data(cherry_blossoms). Consider at least two different models (functional relationships) to predict doy with temp. You could for example compare a linear model with a qua- dratic model. Compare them with PSIS or WAIC.\n",
    "Suppose March temperatures reach 9 degrees by the year 2050. What does your best model predict for the predictive distribution of the day-in-year that the cherry trees will blossom?"
   ],
   "metadata": {
    "collapsed": false
   }
  }
 ],
 "metadata": {
  "hide_input": false,
  "kernelspec": {
   "display_name": "Python 3 (ipykernel)",
   "language": "python",
   "name": "python3"
  },
  "language_info": {
   "codemirror_mode": {
    "name": "ipython",
    "version": 3
   },
   "file_extension": ".py",
   "mimetype": "text/x-python",
   "name": "python",
   "nbconvert_exporter": "python",
   "pygments_lexer": "ipython3",
   "version": "3.9.13"
  }
 },
 "nbformat": 4,
 "nbformat_minor": 4
}
