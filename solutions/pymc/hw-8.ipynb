{
 "cells": [
  {
   "cell_type": "code",
   "execution_count": 22,
   "metadata": {},
   "outputs": [],
   "source": [
    "import arviz as az\n",
    "import networkx as nx\n",
    "import numpy as np\n",
    "import pandas as pd\n",
    "from pywhy_graphs.viz import draw\n",
    "import pymc as pm\n",
    "from scipy import stats\n",
    "import warnings"
   ]
  },
  {
   "cell_type": "code",
   "execution_count": 23,
   "metadata": {},
   "outputs": [],
   "source": [
    "%config InlineBackend.figure_format = 'retina'\n",
    "RANDOM_SEED = 8927\n",
    "rng = np.random.default_rng(RANDOM_SEED)\n",
    "az.style.use(\"arviz-darkgrid\")\n",
    "warnings.filterwarnings('ignore')"
   ]
  },
  {
   "cell_type": "markdown",
   "metadata": {},
   "source": [
    "The data in data(Monks) are “like” and “dislike” nominations by 18 monks living in the same monastery over three time periods. Therefore the observed variables are counts from 0 to 3 of times monk A nominated monk B as liked or disliked.1 Each row in the data is a pair of monks (a dyad). The variables are:\n",
    "* A: Index number for first monk in dyad\n",
    "* B: Index number for second monk in dyad\n",
    "* like_AB: Number of times A nominated B as liked\n",
    "* like_BA: Number of times B nominated A as liked\n",
    "* dislike_AB: Number of times A nominated B as disliked • dislike_BA: Number of times B nominated A as disliked"
   ]
  },
  {
   "cell_type": "markdown",
   "metadata": {},
   "source": [
    "1\\. Use these data to estimate the amount of reciprocity in “like” nominations within dyads. You can ignore the “dislike” data for now. Use the social network example from the book to help, but you should modify it appropriately.\n"
   ]
  },
  {
   "cell_type": "code",
   "execution_count": 14,
   "metadata": {},
   "outputs": [
    {
     "data": {
      "text/html": [
       "<div>\n",
       "<style scoped>\n",
       "    .dataframe tbody tr th:only-of-type {\n",
       "        vertical-align: middle;\n",
       "    }\n",
       "\n",
       "    .dataframe tbody tr th {\n",
       "        vertical-align: top;\n",
       "    }\n",
       "\n",
       "    .dataframe thead th {\n",
       "        text-align: right;\n",
       "    }\n",
       "</style>\n",
       "<table border=\"1\" class=\"dataframe\">\n",
       "  <thead>\n",
       "    <tr style=\"text-align: right;\">\n",
       "      <th></th>\n",
       "      <th>dyad_id</th>\n",
       "      <th>A</th>\n",
       "      <th>B</th>\n",
       "      <th>like_AB</th>\n",
       "      <th>like_BA</th>\n",
       "      <th>dislike_AB</th>\n",
       "      <th>dislike_BA</th>\n",
       "      <th>A_name</th>\n",
       "      <th>B_name</th>\n",
       "    </tr>\n",
       "  </thead>\n",
       "  <tbody>\n",
       "    <tr>\n",
       "      <th>0</th>\n",
       "      <td>1</td>\n",
       "      <td>1</td>\n",
       "      <td>2</td>\n",
       "      <td>0</td>\n",
       "      <td>3</td>\n",
       "      <td>0</td>\n",
       "      <td>0</td>\n",
       "      <td>ROMUL</td>\n",
       "      <td>BONAVEN</td>\n",
       "    </tr>\n",
       "    <tr>\n",
       "      <th>1</th>\n",
       "      <td>2</td>\n",
       "      <td>1</td>\n",
       "      <td>3</td>\n",
       "      <td>3</td>\n",
       "      <td>3</td>\n",
       "      <td>0</td>\n",
       "      <td>0</td>\n",
       "      <td>ROMUL</td>\n",
       "      <td>AMBROSE</td>\n",
       "    </tr>\n",
       "    <tr>\n",
       "      <th>2</th>\n",
       "      <td>3</td>\n",
       "      <td>1</td>\n",
       "      <td>4</td>\n",
       "      <td>0</td>\n",
       "      <td>0</td>\n",
       "      <td>0</td>\n",
       "      <td>0</td>\n",
       "      <td>ROMUL</td>\n",
       "      <td>BERTH</td>\n",
       "    </tr>\n",
       "    <tr>\n",
       "      <th>3</th>\n",
       "      <td>4</td>\n",
       "      <td>1</td>\n",
       "      <td>5</td>\n",
       "      <td>0</td>\n",
       "      <td>0</td>\n",
       "      <td>0</td>\n",
       "      <td>0</td>\n",
       "      <td>ROMUL</td>\n",
       "      <td>PETER</td>\n",
       "    </tr>\n",
       "    <tr>\n",
       "      <th>4</th>\n",
       "      <td>5</td>\n",
       "      <td>1</td>\n",
       "      <td>6</td>\n",
       "      <td>0</td>\n",
       "      <td>0</td>\n",
       "      <td>0</td>\n",
       "      <td>0</td>\n",
       "      <td>ROMUL</td>\n",
       "      <td>LOUIS</td>\n",
       "    </tr>\n",
       "    <tr>\n",
       "      <th>...</th>\n",
       "      <td>...</td>\n",
       "      <td>...</td>\n",
       "      <td>...</td>\n",
       "      <td>...</td>\n",
       "      <td>...</td>\n",
       "      <td>...</td>\n",
       "      <td>...</td>\n",
       "      <td>...</td>\n",
       "      <td>...</td>\n",
       "    </tr>\n",
       "    <tr>\n",
       "      <th>148</th>\n",
       "      <td>149</td>\n",
       "      <td>15</td>\n",
       "      <td>17</td>\n",
       "      <td>0</td>\n",
       "      <td>0</td>\n",
       "      <td>0</td>\n",
       "      <td>0</td>\n",
       "      <td>AMAND</td>\n",
       "      <td>ELIAS</td>\n",
       "    </tr>\n",
       "    <tr>\n",
       "      <th>149</th>\n",
       "      <td>150</td>\n",
       "      <td>15</td>\n",
       "      <td>18</td>\n",
       "      <td>0</td>\n",
       "      <td>0</td>\n",
       "      <td>0</td>\n",
       "      <td>0</td>\n",
       "      <td>AMAND</td>\n",
       "      <td>SIMP</td>\n",
       "    </tr>\n",
       "    <tr>\n",
       "      <th>150</th>\n",
       "      <td>151</td>\n",
       "      <td>16</td>\n",
       "      <td>17</td>\n",
       "      <td>0</td>\n",
       "      <td>0</td>\n",
       "      <td>0</td>\n",
       "      <td>0</td>\n",
       "      <td>BASIL</td>\n",
       "      <td>ELIAS</td>\n",
       "    </tr>\n",
       "    <tr>\n",
       "      <th>151</th>\n",
       "      <td>152</td>\n",
       "      <td>16</td>\n",
       "      <td>18</td>\n",
       "      <td>0</td>\n",
       "      <td>0</td>\n",
       "      <td>0</td>\n",
       "      <td>0</td>\n",
       "      <td>BASIL</td>\n",
       "      <td>SIMP</td>\n",
       "    </tr>\n",
       "    <tr>\n",
       "      <th>152</th>\n",
       "      <td>153</td>\n",
       "      <td>17</td>\n",
       "      <td>18</td>\n",
       "      <td>3</td>\n",
       "      <td>3</td>\n",
       "      <td>0</td>\n",
       "      <td>0</td>\n",
       "      <td>ELIAS</td>\n",
       "      <td>SIMP</td>\n",
       "    </tr>\n",
       "  </tbody>\n",
       "</table>\n",
       "<p>153 rows × 9 columns</p>\n",
       "</div>"
      ],
      "text/plain": [
       "     dyad_id   A   B  like_AB  like_BA  dislike_AB  dislike_BA A_name   B_name\n",
       "0          1   1   2        0        3           0           0  ROMUL  BONAVEN\n",
       "1          2   1   3        3        3           0           0  ROMUL  AMBROSE\n",
       "2          3   1   4        0        0           0           0  ROMUL    BERTH\n",
       "3          4   1   5        0        0           0           0  ROMUL    PETER\n",
       "4          5   1   6        0        0           0           0  ROMUL    LOUIS\n",
       "..       ...  ..  ..      ...      ...         ...         ...    ...      ...\n",
       "148      149  15  17        0        0           0           0  AMAND    ELIAS\n",
       "149      150  15  18        0        0           0           0  AMAND     SIMP\n",
       "150      151  16  17        0        0           0           0  BASIL    ELIAS\n",
       "151      152  16  18        0        0           0           0  BASIL     SIMP\n",
       "152      153  17  18        3        3           0           0  ELIAS     SIMP\n",
       "\n",
       "[153 rows x 9 columns]"
      ]
     },
     "execution_count": 14,
     "metadata": {},
     "output_type": "execute_result"
    }
   ],
   "source": [
    "d = pd.read_csv(\"../../Data/week08_Monks.csv\", sep=\",\", header=0)\n",
    "d"
   ]
  },
  {
   "cell_type": "code",
   "execution_count": 15,
   "metadata": {},
   "outputs": [
    {
     "data": {
      "text/plain": [
       "dyad_id        int64\n",
       "A              int64\n",
       "B              int64\n",
       "like_AB        int64\n",
       "like_BA        int64\n",
       "dislike_AB     int64\n",
       "dislike_BA     int64\n",
       "A_name        object\n",
       "B_name        object\n",
       "dtype: object"
      ]
     },
     "execution_count": 15,
     "metadata": {},
     "output_type": "execute_result"
    }
   ],
   "source": [
    "d.dtypes"
   ]
  },
  {
   "cell_type": "code",
   "execution_count": 21,
   "metadata": {
    "collapsed": false
   },
   "outputs": [],
   "source": [
    "like_AB = d.like_AB\n",
    "like_BA = d.like_BA\n",
    "\n",
    "with pm.Model() as m1:\n",
    "    sigma_T = pm.Exponential.dist(1)\n",
    "    rho, _, _ = pm.LKJCholeskyCov(\"rho\", eta=4, n=2, sd_dist=sigma)\n",
    "    a_bar = pm.Normal(\"a_bar\", 0., 1., shape=2)\n",
    "    v = pm.MvNormal(\"v\", a_bar, chol=rho, shape=(num_Ds, 2))\n",
    "\n",
    "    a = pm.Normal(\"a\", 0., 1.)\n",
    "    pBA = pm.invlogit(a + T[:, 1])\n",
    "    pAB = pm.invlogit(a + T[:, 0])\n",
    "    like_AB = pm.Binomial(\"like_AB\", n=3, p=pAB, observed=like_AB),\n",
    "    like_BA = pm.Binomial(\"like_BA\", n=3, p=pBA, observed=like_BA),"
   ]
  },
  {
   "cell_type": "markdown",
   "metadata": {
    "collapsed": false
   },
   "source": [
    "2\\. Now also analyze the “dislike” nominations. Estimate the amount of reciprocity in the “dislike” nominations and compare to the estimate from the “like” nomi- nations. Does “like” or “dislike” have higher reciprocity? Be sure to compute the posterior contrast between the two estimates."
   ]
  },
  {
   "cell_type": "markdown",
   "metadata": {
    "collapsed": false
   },
   "source": [
    "3\\. Now consider generalized liking and disliking. Add generalized “receiving” pa- rameters to the model, analogous to receiving varying effects from the sharing ex- ample in the book/lecture. (Each monk only named 3 likes and 3 dislikes each time, so the amount of “giving” is fixed by design in these data.) Can you identify any individuals who are particularly liked/disliked, independent of the dyadic relations?"
   ]
  },
  {
   "cell_type": "code",
   "execution_count": null,
   "metadata": {
    "collapsed": false
   },
   "outputs": [],
   "source": []
  }
 ],
 "metadata": {
  "kernelspec": {
   "display_name": "Python 3 (ipykernel)",
   "language": "python",
   "name": "python3"
  },
  "language_info": {
   "codemirror_mode": {
    "name": "ipython",
    "version": 3
   },
   "file_extension": ".py",
   "mimetype": "text/x-python",
   "name": "python",
   "nbconvert_exporter": "python",
   "pygments_lexer": "ipython3",
   "version": "3.10.8"
  }
 },
 "nbformat": 4,
 "nbformat_minor": 1
}
